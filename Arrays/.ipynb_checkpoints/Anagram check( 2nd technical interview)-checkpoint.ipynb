{
 "cells": [
  {
   "cell_type": "markdown",
   "metadata": {},
   "source": [
    "## Anagram is when the two strings can be written using the same letters(So you can rearrange the letters to get a different phrase or a word)"
   ]
  },
  {
   "cell_type": "markdown",
   "metadata": {},
   "source": [
    "### NOTE: Ignore spaces and capitalization"
   ]
  },
  {
   "cell_type": "markdown",
   "metadata": {},
   "source": [
    "#### e.g 1: \"public relations\" is anagram of \"crap built on lies\""
   ]
  },
  {
   "cell_type": "markdown",
   "metadata": {},
   "source": [
    "#### e.g 2: \"School master\" is anagram of \"The classroom\""
   ]
  },
  {
   "cell_type": "markdown",
   "metadata": {},
   "source": [
    "#### e.g 3: \"clint eastwood\" is anagram of \"old west action\""
   ]
  },
  {
   "cell_type": "code",
   "execution_count": 375,
   "metadata": {},
   "outputs": [],
   "source": [
    "def check_anagram(string1, string2):\n",
    "    \n",
    "    \"\"\"\n",
    "    Used replace() method to remove whitespaces in strings\n",
    "    Used lower() to have small letters\n",
    "    \"\"\"\n",
    "    strip_str1 = string1.replace(\" \", \"\").lower() \n",
    "    strip_str2 = string2.replace(\" \", \"\").lower()\n",
    "    anagram_check = []\n",
    "    \n",
    "    if len(strip_str1) != len(strip_str2):\n",
    "        print(False)\n",
    "        return 'Strings are not an Anagram'\n",
    "    else:\n",
    "        # Loop thru all characters in string2\n",
    "        for str2 in strip_str2:\n",
    "            # Check if all characters in srting2 exits\n",
    "            if str2 not in strip_str1:\n",
    "                print(False)\n",
    "                return 'Strings are not an Anagram'\n",
    "            else:\n",
    "                anagram_check.append(str2)\n",
    "    #Sort two lists and check if they are the same\n",
    "    if(sorted(anagram_check) == sorted(list(strip_str1))):\n",
    "        print(True)\n",
    "        return 'Strings are an Anagram'\n",
    "    else:\n",
    "        print(False)\n",
    "        return 'Strings are not an Anagram'    "
   ]
  },
  {
   "cell_type": "code",
   "execution_count": 376,
   "metadata": {},
   "outputs": [
    {
     "name": "stdout",
     "output_type": "stream",
     "text": [
      "False\n"
     ]
    },
    {
     "data": {
      "text/plain": [
       "'Strings are not an Anagram'"
      ]
     },
     "execution_count": 376,
     "metadata": {},
     "output_type": "execute_result"
    }
   ],
   "source": [
    "check_anagram(\"hello\", \"holla\") #this is not anagram, will return False"
   ]
  },
  {
   "cell_type": "code",
   "execution_count": 377,
   "metadata": {},
   "outputs": [
    {
     "name": "stdout",
     "output_type": "stream",
     "text": [
      "True\n"
     ]
    },
    {
     "data": {
      "text/plain": [
       "'Strings are an Anagram'"
      ]
     },
     "execution_count": 377,
     "metadata": {},
     "output_type": "execute_result"
    }
   ],
   "source": [
    "check_anagram(\"public relations\", \"crap built on lies\") #this is anagram, will return True"
   ]
  },
  {
   "cell_type": "code",
   "execution_count": 378,
   "metadata": {},
   "outputs": [
    {
     "name": "stdout",
     "output_type": "stream",
     "text": [
      "True\n"
     ]
    },
    {
     "data": {
      "text/plain": [
       "'Strings are an Anagram'"
      ]
     },
     "execution_count": 378,
     "metadata": {},
     "output_type": "execute_result"
    }
   ],
   "source": [
    "check_anagram(\"School master\", \"The classroom\") #this is anagram, will return True"
   ]
  },
  {
   "cell_type": "code",
   "execution_count": 379,
   "metadata": {},
   "outputs": [
    {
     "name": "stdout",
     "output_type": "stream",
     "text": [
      "True\n"
     ]
    },
    {
     "data": {
      "text/plain": [
       "'Strings are an Anagram'"
      ]
     },
     "execution_count": 379,
     "metadata": {},
     "output_type": "execute_result"
    }
   ],
   "source": [
    "check_anagram(\"A gentleman\", \"Elegant man\") #this is anagram, will return True"
   ]
  },
  {
   "cell_type": "code",
   "execution_count": null,
   "metadata": {},
   "outputs": [],
   "source": []
  }
 ],
 "metadata": {
  "kernelspec": {
   "display_name": "Python 3",
   "language": "python",
   "name": "python3"
  },
  "language_info": {
   "codemirror_mode": {
    "name": "ipython",
    "version": 3
   },
   "file_extension": ".py",
   "mimetype": "text/x-python",
   "name": "python",
   "nbconvert_exporter": "python",
   "pygments_lexer": "ipython3",
   "version": "3.8.5"
  }
 },
 "nbformat": 4,
 "nbformat_minor": 4
}
