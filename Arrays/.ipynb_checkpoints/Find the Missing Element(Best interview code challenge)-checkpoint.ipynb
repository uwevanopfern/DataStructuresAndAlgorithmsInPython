{
 "cells": [
  {
   "cell_type": "markdown",
   "metadata": {},
   "source": [
    "## Given two arrays, find which element is missing in the second array\n",
    "\n",
    "#### Input:\n",
    "    finder([1,2,3,4,5,6,7], [3,7,2,1,4,6])\n",
    "    \n",
    "#### Output:\n",
    "    5 is missing number"
   ]
  },
  {
   "cell_type": "code",
   "execution_count": 36,
   "metadata": {},
   "outputs": [
    {
     "name": "stdout",
     "output_type": "stream",
     "text": [
      "5\n"
     ]
    }
   ],
   "source": [
    "def finder(arr1, arr2):\n",
    "    \n",
    "    if len(arr1) < 0:\n",
    "        return []\n",
    "    \n",
    "    for i in arr1:\n",
    "        if i not in arr2:\n",
    "             print(i)\n",
    "\n",
    "finder([1,2,3,4,5,6,7], [3,7,2,1,4,6])\n",
    "# finder([], [3,7,2,1,4,6])"
   ]
  },
  {
   "cell_type": "code",
   "execution_count": 40,
   "metadata": {},
   "outputs": [
    {
     "data": {
      "text/plain": [
       "5"
      ]
     },
     "execution_count": 40,
     "metadata": {},
     "output_type": "execute_result"
    }
   ],
   "source": [
    "#Solution using ZIP function\n",
    "\n",
    "def finder(arr1, arr2):\n",
    "    \n",
    "    arr1.sort()\n",
    "    arr2.sort()\n",
    "    \n",
    "    for i,j in zip(arr1,arr2):\n",
    "        if i != j:\n",
    "             return i\n",
    "    return arr1[-1]\n",
    "\n",
    "finder([1,2,3,4,5,6,7], [3,7,2,1,4,6])"
   ]
  },
  {
   "cell_type": "code",
   "execution_count": null,
   "metadata": {},
   "outputs": [],
   "source": []
  },
  {
   "cell_type": "code",
   "execution_count": null,
   "metadata": {},
   "outputs": [],
   "source": []
  },
  {
   "cell_type": "code",
   "execution_count": null,
   "metadata": {},
   "outputs": [],
   "source": []
  }
 ],
 "metadata": {
  "kernelspec": {
   "display_name": "Python 3",
   "language": "python",
   "name": "python3"
  },
  "language_info": {
   "codemirror_mode": {
    "name": "ipython",
    "version": 3
   },
   "file_extension": ".py",
   "mimetype": "text/x-python",
   "name": "python",
   "nbconvert_exporter": "python",
   "pygments_lexer": "ipython3",
   "version": "3.8.5"
  }
 },
 "nbformat": 4,
 "nbformat_minor": 4
}
