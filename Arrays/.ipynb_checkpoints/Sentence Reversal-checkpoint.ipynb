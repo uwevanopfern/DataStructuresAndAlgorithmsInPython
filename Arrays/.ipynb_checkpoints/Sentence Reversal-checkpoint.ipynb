{
 "cells": [
  {
   "cell_type": "markdown",
   "metadata": {},
   "source": [
    "## Given a string of words, reverse all the words\n",
    "\n",
    "#### Given:\n",
    "    \"This is the best\"\n",
    "#### Return:\n",
    "    \"best the is this\""
   ]
  },
  {
   "cell_type": "code",
   "execution_count": 1,
   "metadata": {},
   "outputs": [
    {
     "name": "stdout",
     "output_type": "stream",
     "text": [
      "['go?', 'to', 'ready', 'you', 'are', 'John,', 'Hi']\n",
      "go? to ready you are John, Hi\n",
      "['best', 'the', 'is', 'This']\n",
      "best the is This\n",
      "['dude', 'here', 'space']\n",
      "dude here space\n",
      "['dude', 'here', 'space', 'holla']\n",
      "dude here space holla\n"
     ]
    }
   ],
   "source": [
    "def reverse_word(s):\n",
    "    lst = s.split()\n",
    "    reversed_lst = list(reversed(lst))\n",
    "    reversed_str = ' '.join([item for item in reversed_lst])\n",
    "    print(reversed_str)\n",
    "\n",
    "reverse_word('Hi John, are you ready to go?')\n",
    "reverse_word('This is the best')\n",
    "reverse_word('space here    dude')\n",
    "reverse_word('holla    space here    dude')"
   ]
  },
  {
   "cell_type": "code",
   "execution_count": null,
   "metadata": {},
   "outputs": [],
   "source": []
  }
 ],
 "metadata": {
  "kernelspec": {
   "display_name": "Python 3",
   "language": "python",
   "name": "python3"
  },
  "language_info": {
   "codemirror_mode": {
    "name": "ipython",
    "version": 3
   },
   "file_extension": ".py",
   "mimetype": "text/x-python",
   "name": "python",
   "nbconvert_exporter": "python",
   "pygments_lexer": "ipython3",
   "version": "3.8.5"
  }
 },
 "nbformat": 4,
 "nbformat_minor": 4
}
