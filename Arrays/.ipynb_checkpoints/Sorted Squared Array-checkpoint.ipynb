{
 "cells": [
  {
   "cell_type": "markdown",
   "id": "faa1b8c4",
   "metadata": {},
   "source": [
    "## Sorted Squared Array\n",
    "Write a function that takes in a non-empty array of integers that are sorted\n",
    "  in ascending order and returns a new array of the same length with the squares\n",
    "  of the original integers also sorted in ascending order.\n",
    "  \n",
    "#### Input\n",
    "[1, 2, 3, 5, 6, 8, 9]\n",
    "   \n",
    "#### Output\n",
    "[1, 4, 9, 25, 36, 64, 81]"
   ]
  },
  {
   "cell_type": "code",
   "execution_count": 16,
   "id": "36444ce1",
   "metadata": {},
   "outputs": [],
   "source": [
    "def sortedSquaredArray(array):\n",
    "    array = array\n",
    "    arraySq = []\n",
    "    for value in array:\n",
    "        arraySq.append(value**2)\n",
    "    return sorted(arraySq)"
   ]
  },
  {
   "cell_type": "code",
   "execution_count": 17,
   "id": "5eb3bc5f",
   "metadata": {},
   "outputs": [
    {
     "data": {
      "text/plain": [
       "[4, 9]"
      ]
     },
     "execution_count": 17,
     "metadata": {},
     "output_type": "execute_result"
    }
   ],
   "source": [
    "sortedSquaredArray([3,2])"
   ]
  },
  {
   "cell_type": "code",
   "execution_count": null,
   "id": "d387a23d",
   "metadata": {},
   "outputs": [],
   "source": []
  }
 ],
 "metadata": {
  "kernelspec": {
   "display_name": "Python 3 (ipykernel)",
   "language": "python",
   "name": "python3"
  },
  "language_info": {
   "codemirror_mode": {
    "name": "ipython",
    "version": 3
   },
   "file_extension": ".py",
   "mimetype": "text/x-python",
   "name": "python",
   "nbconvert_exporter": "python",
   "pygments_lexer": "ipython3",
   "version": "3.9.12"
  }
 },
 "nbformat": 4,
 "nbformat_minor": 5
}
