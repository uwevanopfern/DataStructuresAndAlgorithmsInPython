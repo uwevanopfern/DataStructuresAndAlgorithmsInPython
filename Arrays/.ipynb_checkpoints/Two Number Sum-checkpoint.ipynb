{
 "cells": [
  {
   "cell_type": "markdown",
   "id": "2ea6c51c",
   "metadata": {},
   "source": [
    "## Two number sum\n",
    "\n",
    "#### The input:\n",
    "    [3, 5, -4, 8, 11, 1, -1, 6], 10\n",
    "    \n",
    "#### Would return\n",
    "    [-1, 11]"
   ]
  },
  {
   "cell_type": "code",
   "execution_count": 86,
   "id": "78802c56",
   "metadata": {},
   "outputs": [],
   "source": [
    "#O(n) Time and O(n) space as its complexity analysis\n",
    "def twoNumberSum(array, targetSum):\n",
    "    # Write your code here.\n",
    "    nums = {}\n",
    "    for x in array:\n",
    "        # x+y = targetSum\n",
    "        y = targetSum - x\n",
    "        # print(\"y = {} - {}\".format(targetSum, x),\"Result : \", y, \"current nums\", nums)\n",
    "        if y in nums:\n",
    "            return [y, x]\n",
    "        else:\n",
    "            nums[x] = True\n",
    "    return []"
   ]
  },
  {
   "cell_type": "code",
   "execution_count": 87,
   "id": "ff124683",
   "metadata": {},
   "outputs": [
    {
     "data": {
      "text/plain": [
       "[11, -1]"
      ]
     },
     "execution_count": 87,
     "metadata": {},
     "output_type": "execute_result"
    }
   ],
   "source": [
    "twoNumberSum([3, 5, -4, 8, 11, 1, -1, 6], 10)"
   ]
  },
  {
   "cell_type": "code",
   "execution_count": 92,
   "id": "39395291",
   "metadata": {},
   "outputs": [
    {
     "data": {
      "text/plain": [
       "[-1, 11]"
      ]
     },
     "execution_count": 92,
     "metadata": {},
     "output_type": "execute_result"
    }
   ],
   "source": [
    "#O(n^2) Time and O(1) space as its complexity analysis\n",
    "def twoNumberSum(arr, targetSum):\n",
    "    for x in range(len(arr) - 1):\n",
    "        firstNum = arr[x]\n",
    "        for y in range(x+1, len(arr)):\n",
    "            secondNum=arr[y]\n",
    "            if secondNum+firstNum == targetSum:\n",
    "                return [secondNum, firstNum]\n",
    "    return []\n",
    "twoNumberSum([3, 5, -4, 8, 11, 1, -1, 6], 10)"
   ]
  },
  {
   "cell_type": "code",
   "execution_count": null,
   "id": "75d9faa6",
   "metadata": {},
   "outputs": [],
   "source": []
  },
  {
   "cell_type": "code",
   "execution_count": null,
   "id": "99fcc032",
   "metadata": {},
   "outputs": [],
   "source": []
  }
 ],
 "metadata": {
  "kernelspec": {
   "display_name": "Python 3 (ipykernel)",
   "language": "python",
   "name": "python3"
  },
  "language_info": {
   "codemirror_mode": {
    "name": "ipython",
    "version": 3
   },
   "file_extension": ".py",
   "mimetype": "text/x-python",
   "name": "python",
   "nbconvert_exporter": "python",
   "pygments_lexer": "ipython3",
   "version": "3.9.12"
  }
 },
 "nbformat": 4,
 "nbformat_minor": 5
}
