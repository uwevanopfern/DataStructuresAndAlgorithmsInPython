{
 "cells": [
  {
   "cell_type": "markdown",
   "metadata": {},
   "source": [
    "## Given an array of integers, return indices(indexies) of the two numbers such that they add up to a specific target\n",
    "\n",
    "### You may assume that each input would have exactly one solution, and you ay not use the same element twice\n",
    "\n",
    "\n",
    "#### Input:\n",
    "    numbers = [2,7,11,15], target = 9\n",
    "    \n",
    "#### Output:\n",
    "    Because numbers[0] + numbers[1] = 2 + 7 = 9\n",
    "    return [0,1]"
   ]
  },
  {
   "cell_type": "code",
   "execution_count": 44,
   "metadata": {},
   "outputs": [
    {
     "data": {
      "text/plain": [
       "[0, 3]"
      ]
     },
     "execution_count": 44,
     "metadata": {},
     "output_type": "execute_result"
    }
   ],
   "source": [
    "def two_sum(nums, target):\n",
    "\n",
    "    seen = {}\n",
    "\n",
    "    for i, num in enumerate(nums):\n",
    "        target_num = target - num \n",
    "        if target_num in seen:\n",
    "            return([seen[target_num], i])\n",
    "        else:\n",
    "            seen[num] = i\n",
    "two_sum([2,15,11,7], 9)\n",
    "\n",
    "\n",
    "#First loop \n",
    "# 9 - 2 = 7, if not in see, {2: 0}\n",
    "#Second loop\n",
    "# 9 - 7 = 2, is in seen already, print(index of 2 is 0 in seen), and current index, is 3) "
   ]
  },
  {
   "cell_type": "code",
   "execution_count": null,
   "metadata": {},
   "outputs": [],
   "source": []
  },
  {
   "cell_type": "code",
   "execution_count": null,
   "metadata": {},
   "outputs": [],
   "source": []
  }
 ],
 "metadata": {
  "kernelspec": {
   "display_name": "Python 3",
   "language": "python",
   "name": "python3"
  },
  "language_info": {
   "codemirror_mode": {
    "name": "ipython",
    "version": 3
   },
   "file_extension": ".py",
   "mimetype": "text/x-python",
   "name": "python",
   "nbconvert_exporter": "python",
   "pygments_lexer": "ipython3",
   "version": "3.8.5"
  }
 },
 "nbformat": 4,
 "nbformat_minor": 4
}
