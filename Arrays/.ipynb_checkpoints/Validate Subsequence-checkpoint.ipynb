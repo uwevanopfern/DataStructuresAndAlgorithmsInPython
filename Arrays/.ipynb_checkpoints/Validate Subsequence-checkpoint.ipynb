{
 "cells": [
  {
   "cell_type": "markdown",
   "id": "90472771",
   "metadata": {},
   "source": [
    "## Validate Subsequence\n",
    "Given two non-empty arrays of integers, write a function that determines whether the second array is a subsequence of the first one.\n",
    "\n",
    "A subsequence of an array is a set of numbers that aren’t necessarily adjacent in the array but that are in the same order as they appear in the array. For example these numbers\n",
    "\n",
    "#### Example one\n",
    "array = [5, 1, 22, 25, 6, -1, 8, 10]\n",
    "\n",
    "sequence = [1, 6, -1, 10]\n",
    "\n",
    "#### Example two\n",
    "\n",
    "array = [1,2,3,4,5]\n",
    "\n",
    "sequence = [2, 3, 5]"
   ]
  },
  {
   "cell_type": "code",
   "execution_count": 138,
   "id": "a677ba41",
   "metadata": {},
   "outputs": [],
   "source": [
    "##Second solution, Optimal one\n",
    "def isValidSubsequence(array, sequence):\n",
    "    seqIdx = 0\n",
    "    for value in array:\n",
    "        if seqIdx != len(sequence):\n",
    "            if sequence[seqIdx] == value:\n",
    "                seqIdx +=1\n",
    "    return seqIdx == len(sequence)"
   ]
  },
  {
   "cell_type": "code",
   "execution_count": 139,
   "id": "7cf99830",
   "metadata": {},
   "outputs": [
    {
     "data": {
      "text/plain": [
       "True"
      ]
     },
     "execution_count": 139,
     "metadata": {},
     "output_type": "execute_result"
    }
   ],
   "source": [
    "# isValidSubsequence([5, 1, 22, 25, 6, -1, 8, 10], [1, 6, -1])\n",
    "# isValidSubsequence([1, 1, 1, 1, 1], [1, 1, 1])\n",
    "isValidSubsequence([5, 1, 22, 25, 6, -1, 8, 10], [5, 1, 22, 25, 6, -1, 8, 10])"
   ]
  },
  {
   "cell_type": "code",
   "execution_count": null,
   "id": "decd5336",
   "metadata": {},
   "outputs": [],
   "source": []
  },
  {
   "cell_type": "code",
   "execution_count": null,
   "id": "2c5f643d",
   "metadata": {},
   "outputs": [],
   "source": []
  }
 ],
 "metadata": {
  "kernelspec": {
   "display_name": "Python 3 (ipykernel)",
   "language": "python",
   "name": "python3"
  },
  "language_info": {
   "codemirror_mode": {
    "name": "ipython",
    "version": 3
   },
   "file_extension": ".py",
   "mimetype": "text/x-python",
   "name": "python",
   "nbconvert_exporter": "python",
   "pygments_lexer": "ipython3",
   "version": "3.9.12"
  }
 },
 "nbformat": 4,
 "nbformat_minor": 5
}
