{
 "cells": [
  {
   "cell_type": "markdown",
   "id": "ca460441",
   "metadata": {},
   "source": [
    "## Non-Constructible Change\n",
    "\n",
    "  Given an array of positive integers representing the values of coins in your\n",
    "  possession, write a function that returns the minimum amount of change (the\n",
    "  minimum sum of money) that you <b>cannot</b> create. The given coins can have\n",
    "  any positive integer value and aren't necessarily unique (i.e., you can have\n",
    "  multiple coins of the same value).\n",
    "\n",
    "  For example, if you're given <span>coins = [1, 2, 5]</span>, the minimum\n",
    "  amount of change that you can't create is <span>4</span>. If you're given no\n",
    "  coins, the minimum amount of change that you can't create is <span>1</span>.\n",
    "\n",
    "##### Sample Input\n",
    "[5, 7, 1, 1, 2, 3, 22]\n",
    "##### Sample Output\n",
    "20"
   ]
  },
  {
   "cell_type": "code",
   "execution_count": 11,
   "id": "7c80964d",
   "metadata": {},
   "outputs": [],
   "source": [
    "def nonConstructibleChange(coins):\n",
    "    coins.sort()\n",
    "    currentChangeCreated = 0\n",
    "    for coin in coins:\n",
    "        if coin > currentChangeCreated + 1:\n",
    "            return currentChangeCreated + 1\n",
    "        currentChangeCreated += coin\n",
    "    return currentChangeCreated + 1"
   ]
  },
  {
   "cell_type": "code",
   "execution_count": 12,
   "id": "b705189a",
   "metadata": {},
   "outputs": [
    {
     "data": {
      "text/plain": [
       "20"
      ]
     },
     "execution_count": 12,
     "metadata": {},
     "output_type": "execute_result"
    }
   ],
   "source": [
    "nonConstructibleChange([5, 7, 1, 1, 2, 3, 22])"
   ]
  },
  {
   "cell_type": "code",
   "execution_count": null,
   "id": "b06d765c",
   "metadata": {},
   "outputs": [],
   "source": []
  }
 ],
 "metadata": {
  "kernelspec": {
   "display_name": "Python 3 (ipykernel)",
   "language": "python",
   "name": "python3"
  },
  "language_info": {
   "codemirror_mode": {
    "name": "ipython",
    "version": 3
   },
   "file_extension": ".py",
   "mimetype": "text/x-python",
   "name": "python",
   "nbconvert_exporter": "python",
   "pygments_lexer": "ipython3",
   "version": "3.9.12"
  }
 },
 "nbformat": 4,
 "nbformat_minor": 5
}
