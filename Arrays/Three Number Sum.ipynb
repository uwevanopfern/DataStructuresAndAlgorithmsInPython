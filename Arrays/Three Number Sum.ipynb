{
 "cells": [
  {
   "cell_type": "markdown",
   "id": "3fd7fd0a",
   "metadata": {},
   "source": [
    "## Three Number Sum\n",
    "\n",
    "<div class=\"html\">\n",
    "<p>\n",
    "  Write a function that takes in a non-empty array of distinct integers and an\n",
    "  integer representing a target sum. The function should find all triplets in\n",
    "  the array that sum up to the target sum and return a two-dimensional array of\n",
    "  all these triplets. The numbers in each triplet should be ordered in ascending\n",
    "  order, and the triplets themselves should be ordered in ascending order with\n",
    "  respect to the numbers they hold.\n",
    "</p>\n",
    "<p>\n",
    "  If no three numbers sum up to the target sum, the function should return an\n",
    "  empty array.\n",
    "</p>\n",
    "<h3>Sample Input</h3>\n",
    "<pre><span class=\"CodeEditor-promptParameter\">array</span> = [12, 3, 1, 2, -6, 5, -8, 6]\n",
    "<span class=\"CodeEditor-promptParameter\">targetSum</span> = 0\n",
    "</pre>\n",
    "<h3>Sample Output</h3>\n",
    "<pre>[[-8, 2, 6], [-8, 3, 5], [-6, 1, 5]]\n",
    "</pre>\n",
    "</div>\n"
   ]
  },
  {
   "cell_type": "code",
   "execution_count": 43,
   "id": "954a6f36",
   "metadata": {},
   "outputs": [],
   "source": [
    "def threeNumberSum(array, targetSum):\n",
    "    array.sort()\n",
    "    triplets = []\n",
    "    for i in range(len(array)):\n",
    "        left = i + 1\n",
    "        right = len(array) - 1\n",
    "        while left < right:\n",
    "            currentSum = array[i] + array[left] + array[right]\n",
    "            if currentSum == targetSum:\n",
    "                triplets.append([array[i], array[left], array[right]])\n",
    "                left += 1\n",
    "                right -= 1\n",
    "            elif currentSum < targetSum:\n",
    "                left+=1\n",
    "            elif currentSum > targetSum:\n",
    "                right -=1\n",
    "    return triplets"
   ]
  },
  {
   "cell_type": "code",
   "execution_count": 44,
   "id": "96b5fad9",
   "metadata": {},
   "outputs": [
    {
     "data": {
      "text/plain": [
       "[[-8, 2, 6], [-8, 3, 5], [-6, 1, 5]]"
      ]
     },
     "execution_count": 44,
     "metadata": {},
     "output_type": "execute_result"
    }
   ],
   "source": [
    "threeNumberSum([12, 3, 1, 2, -6, 5, -8, 6], 0)"
   ]
  },
  {
   "cell_type": "code",
   "execution_count": 45,
   "id": "897e46c7",
   "metadata": {},
   "outputs": [
    {
     "data": {
      "text/plain": [
       "[[-8, 2, 6], [-8, 3, 5], [-6, 1, 5]]"
      ]
     },
     "execution_count": 45,
     "metadata": {},
     "output_type": "execute_result"
    }
   ],
   "source": [
    "def threeNumberSum(array, targetSum):\n",
    "    array.sort()\n",
    "    triplets = []\n",
    "    for i in range(len(array)):\n",
    "        left = i + 1\n",
    "        right = len(array) - 1\n",
    "        while left < right:\n",
    "            currentSum = array[i] + array[left] + array[right]\n",
    "            if currentSum == targetSum:\n",
    "                triplets.append([array[i], array[left], array[right]])\n",
    "                left += 1\n",
    "                right -= 1\n",
    "            elif currentSum < targetSum:\n",
    "                left+=1\n",
    "            elif currentSum > targetSum:\n",
    "                right -=1\n",
    "    return triplets\n",
    "threeNumberSum([12, 3, 1, 2, -6, 5, -8, 6], 0)"
   ]
  },
  {
   "cell_type": "code",
   "execution_count": null,
   "id": "cb083afc",
   "metadata": {},
   "outputs": [],
   "source": []
  }
 ],
 "metadata": {
  "kernelspec": {
   "display_name": "Python 3 (ipykernel)",
   "language": "python",
   "name": "python3"
  },
  "language_info": {
   "codemirror_mode": {
    "name": "ipython",
    "version": 3
   },
   "file_extension": ".py",
   "mimetype": "text/x-python",
   "name": "python",
   "nbconvert_exporter": "python",
   "pygments_lexer": "ipython3",
   "version": "3.9.12"
  }
 },
 "nbformat": 4,
 "nbformat_minor": 5
}
