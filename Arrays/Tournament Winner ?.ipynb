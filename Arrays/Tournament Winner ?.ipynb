{
 "cells": [
  {
   "cell_type": "markdown",
   "id": "521d4c30",
   "metadata": {},
   "source": [
    "## Tournament Winner\n",
    "\n",
    "  There's an algorithms tournament taking place in which teams of programmers\n",
    "  compete against each other to solve algorithmic problems as fast as possible.\n",
    "  Teams compete in a round robin, where each team faces off against all other\n",
    "  teams. Only two teams compete against each other at a time, and for each\n",
    "  competition, one team is designated the home team, while the other team is the\n",
    "  away team. In each competition there's always one winner and one loser; there\n",
    "  are no ties. A team receives 3 points if it wins and 0 points if it loses. The\n",
    "  winner of the tournament is the team that receives the most amount of points.\n",
    "  \n",
    "  <p>\n",
    "  Given an array of pairs representing the teams that have competed against each\n",
    "  other and an array containing the results of each competition, write a\n",
    "  function that returns the winner of the tournament. The input arrays are named\n",
    "  <span>competitions</span> and <span>results</span>, respectively. The\n",
    "  <span>competitions</span> array has elements in the form of\n",
    "  <span>[homeTeam, awayTeam]</span>, where each team is a string of at most 30\n",
    "  characters representing the name of the team. The <span>results</span> array\n",
    "  contains information about the winner of each corresponding competition in the\n",
    "  <span>competitions</span> array. Specifically, <span>results[i]</span> denotes\n",
    "  the winner of <span>competitions[i]</span>, where a <span>1</span> in the\n",
    "  <span>results</span> array means that the home team in the corresponding\n",
    "  competition won and a <span>0</span> means that the away team won.\n",
    "</p>\n",
    "\n",
    "#### Sample input\n",
    "<pre><span class=\"CodeEditor-promptParameter\">competitions</span> = [\n",
    "  [\"HTML\", \"C#\"],\n",
    "  [\"C#\", \"Python\"],\n",
    "  [\"Python\", \"HTML\"],\n",
    "]\n",
    "<span class=\"CodeEditor-promptParameter\">results</span> = [0, 0, 1]\n",
    "</pre>\n",
    "\n",
    "#### Sample Output\n",
    "\n",
    "<pre>\"Python\"\n",
    "<span class=\"CodeEditor-promptComment\">// C# beats HTML, Python Beats C#, and Python Beats HTML.</span>\n",
    "<span class=\"CodeEditor-promptComment\">// HTML - 0 points </span>\n",
    "<span class=\"CodeEditor-promptComment\">// C# -  3 points</span>\n",
    "<span class=\"CodeEditor-promptComment\">// Python -  6 points</span>\n",
    "</pre>"
   ]
  },
  {
   "cell_type": "code",
   "execution_count": 14,
   "id": "f01a7723",
   "metadata": {},
   "outputs": [],
   "source": [
    "HOME_TEAM_WON = 1\n",
    "def tournamentWinner(competitions, results):\n",
    "    currentBestTeam = \"\"\n",
    "    scores = {currentBestTeam:0}\n",
    "    \n",
    "    for idx, competition in enumerate(competitions):\n",
    "#         print(competition)\n",
    "        result = results[idx]\n",
    "        homeTeam, awayTeam = competition\n",
    "\n",
    "        winningTeam = homeTeam if result == HOME_TEAM_WON else awayTeam\n",
    "\n",
    "        updateScores(winningTeam, 3, scores)\n",
    "\n",
    "        if scores[winningTeam] > scores[currentBestTeam]:\n",
    "            currentBestTeam = winningTeam\n",
    "\n",
    "    return currentBestTeam\n",
    "\n",
    "def updateScores(team, points, scores):\n",
    "    if team not in scores:\n",
    "        scores[team] = 0\n",
    "\n",
    "    scores[team]+=points"
   ]
  },
  {
   "cell_type": "code",
   "execution_count": 15,
   "id": "2d962548",
   "metadata": {},
   "outputs": [
    {
     "data": {
      "text/plain": [
       "'Python'"
      ]
     },
     "execution_count": 15,
     "metadata": {},
     "output_type": "execute_result"
    }
   ],
   "source": [
    "competitions = [\n",
    "  [\"HTML\", \"C#\"],\n",
    "  [\"C#\", \"Python\"],\n",
    "  [\"Python\", \"HTML\"],\n",
    "]\n",
    "results = [0, 0, 1]\n",
    "tournamentWinner(competitions, results)"
   ]
  },
  {
   "cell_type": "code",
   "execution_count": null,
   "id": "20124212",
   "metadata": {},
   "outputs": [],
   "source": []
  }
 ],
 "metadata": {
  "kernelspec": {
   "display_name": "Python 3 (ipykernel)",
   "language": "python",
   "name": "python3"
  },
  "language_info": {
   "codemirror_mode": {
    "name": "ipython",
    "version": 3
   },
   "file_extension": ".py",
   "mimetype": "text/x-python",
   "name": "python",
   "nbconvert_exporter": "python",
   "pygments_lexer": "ipython3",
   "version": "3.9.12"
  }
 },
 "nbformat": 4,
 "nbformat_minor": 5
}
