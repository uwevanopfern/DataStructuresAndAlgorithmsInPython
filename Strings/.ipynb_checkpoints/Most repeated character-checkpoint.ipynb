{
 "cells": [
  {
   "cell_type": "markdown",
   "id": "0333d113",
   "metadata": {},
   "source": [
    "## Most repeated character"
   ]
  },
  {
   "cell_type": "code",
   "execution_count": 17,
   "id": "974fcabf",
   "metadata": {},
   "outputs": [],
   "source": [
    "def mostRepeatedCharacter(string):\n",
    "    chars = {}\n",
    "    for i in string:\n",
    "        if(i.isalpha()):\n",
    "            if i in chars:\n",
    "                chars[i] += 1\n",
    "            else:\n",
    "                chars[i] = 1\n",
    "        else:\n",
    "            continue\n",
    "    return max(chars, key = chars.get) "
   ]
  },
  {
   "cell_type": "code",
   "execution_count": 18,
   "id": "7d855e3c",
   "metadata": {},
   "outputs": [
    {
     "data": {
      "text/plain": [
       "'s'"
      ]
     },
     "execution_count": 18,
     "metadata": {},
     "output_type": "execute_result"
    }
   ],
   "source": [
    "# mostRepeatedCharacter(\"addddd\")\n",
    "mostRepeatedCharacter(\"addddd,.s,,dsssssss12312\")"
   ]
  },
  {
   "cell_type": "code",
   "execution_count": null,
   "id": "a7e948e8",
   "metadata": {},
   "outputs": [],
   "source": []
  }
 ],
 "metadata": {
  "kernelspec": {
   "display_name": "Python 3 (ipykernel)",
   "language": "python",
   "name": "python3"
  },
  "language_info": {
   "codemirror_mode": {
    "name": "ipython",
    "version": 3
   },
   "file_extension": ".py",
   "mimetype": "text/x-python",
   "name": "python",
   "nbconvert_exporter": "python",
   "pygments_lexer": "ipython3",
   "version": "3.9.12"
  }
 },
 "nbformat": 4,
 "nbformat_minor": 5
}
