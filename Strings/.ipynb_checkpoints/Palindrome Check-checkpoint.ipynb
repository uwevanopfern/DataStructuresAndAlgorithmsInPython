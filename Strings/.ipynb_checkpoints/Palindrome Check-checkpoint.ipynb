{
 "cells": [
  {
   "cell_type": "markdown",
   "id": "6b39a510",
   "metadata": {},
   "source": [
    "<h2>Palindrome Check</h2>\n",
    "  Write a function that takes in a non-empty string and that returns a boolean\n",
    "  representing whether the string is a palindrome.\n",
    "</p>\n",
    "<p>\n",
    "  A palindrome is defined as a string that's written the same forward and\n",
    "  backward. Note that single-character strings are palindromes.\n",
    "</p>\n",
    "<h3>Sample Input</h3> \n",
    "<pre><span class=\"CodeEditor-promptParameter\">string</span> = \"abcdcba\", \"redivider\", \"deified\", \"civic\", \"radar\", \"level\", \"rotor\", \"kayak\", \"reviver\", \"racecar\", \"madam\"\n",
    "</pre>\n",
    "<h3>Sample Output</h3>\n",
    "<pre>true <span class=\"CodeEditor-promptComment\">// it's written the same forward and backward</span>\n",
    "</pre>"
   ]
  },
  {
   "cell_type": "code",
   "execution_count": 40,
   "id": "338f15c3",
   "metadata": {},
   "outputs": [],
   "source": [
    "def isPalindrome(string):\n",
    "    if len(string) == 1:\n",
    "        return True\n",
    "    reversedStr = string[::-1]\n",
    "    if string == reversedStr:\n",
    "        return True\n",
    "    return False"
   ]
  },
  {
   "cell_type": "code",
   "execution_count": 41,
   "id": "d21ed764",
   "metadata": {},
   "outputs": [
    {
     "data": {
      "text/plain": [
       "True"
      ]
     },
     "execution_count": 41,
     "metadata": {},
     "output_type": "execute_result"
    }
   ],
   "source": [
    "# isPalindrome(\"r\")\n",
    "# isPalindrome(\"deified\")\n",
    "isPalindrome(\"abcdcba\")\n",
    "# isPalindrome(\"rotor\")"
   ]
  },
  {
   "cell_type": "code",
   "execution_count": 42,
   "id": "77463aa2",
   "metadata": {},
   "outputs": [
    {
     "data": {
      "text/plain": [
       "True"
      ]
     },
     "execution_count": 42,
     "metadata": {},
     "output_type": "execute_result"
    }
   ],
   "source": [
    "def isPalindrome(string):\n",
    "    leftIdx = 0\n",
    "    rightIdx = len(string) - 1\n",
    "    while leftIdx < rightIdx:\n",
    "        if string[leftIdx] != string[rightIdx]:\n",
    "            return False\n",
    "        leftIdx += 1\n",
    "        rightIdx -= 1\n",
    "    return True\n",
    "isPalindrome(\"abcdcba\")"
   ]
  },
  {
   "cell_type": "code",
   "execution_count": null,
   "id": "87ee849e",
   "metadata": {},
   "outputs": [],
   "source": []
  },
  {
   "cell_type": "code",
   "execution_count": null,
   "id": "ba351fdf",
   "metadata": {},
   "outputs": [],
   "source": []
  }
 ],
 "metadata": {
  "kernelspec": {
   "display_name": "Python 3 (ipykernel)",
   "language": "python",
   "name": "python3"
  },
  "language_info": {
   "codemirror_mode": {
    "name": "ipython",
    "version": 3
   },
   "file_extension": ".py",
   "mimetype": "text/x-python",
   "name": "python",
   "nbconvert_exporter": "python",
   "pygments_lexer": "ipython3",
   "version": "3.9.12"
  }
 },
 "nbformat": 4,
 "nbformat_minor": 5
}
