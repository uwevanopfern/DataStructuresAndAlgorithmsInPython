{
 "cells": [
  {
   "cell_type": "markdown",
   "id": "77ca51ea",
   "metadata": {},
   "source": [
    "<h2>Run Length Encoding</h2>\n",
    "<p>\n",
    "  Write a function that takes in a non-empty string and returns its run-length\n",
    "  encoding.\n",
    "</p>\n",
    "<p>\n",
    "  From Wikipedia, \"run-length encoding is a form of lossless data compression in\n",
    "  which runs of data are stored as a single data value and count, rather than as\n",
    "  the original run.\" For this problem, a run of data is any sequence of\n",
    "  consecutive, identical characters. So the run <span>\"AAA\"</span> would be\n",
    "  run-length-encoded as <span>\"3A\"</span>.\n",
    "</p>\n",
    "<p>\n",
    "  To make things more complicated, however, the input string can contain all\n",
    "  sorts of special characters, including numbers. And since encoded data must be\n",
    "  decodable, this means that we can't naively run-length-encode long runs. For\n",
    "  example, the run <span>\"AAAAAAAAAAAA\"</span> (12 <span>A</span>s), can't\n",
    "  naively be encoded as <span>\"12A\"</span>, since this string can be decoded as\n",
    "  either <span>\"AAAAAAAAAAAA\"</span> or <span>\"1AA\"</span>. Thus, long runs (runs\n",
    "  of 10 or more characters) should be encoded in a split fashion; the\n",
    "  aforementioned run should be encoded as <span>\"9A3A\"</span>.\n",
    "</p>\n",
    "<h3>Sample Input</h3>\n",
    "<pre><span class=\"CodeEditor-promptParameter\">string</span> = \"AAAAAAAAAAAAABBCCCCDD\"\n",
    "</pre>\n",
    "<h3>Sample Output</h3>\n",
    "<pre>\"9A4A2B4C2D\"\n",
    "</pre>"
   ]
  },
  {
   "cell_type": "code",
   "execution_count": 122,
   "id": "79f20bb5",
   "metadata": {},
   "outputs": [],
   "source": [
    "#Not optimal solution\n",
    "\n",
    "def runLengthEncoding(string):\n",
    "    s = \"\"\n",
    "    newString = string.replace(\" \", \"\")\n",
    "    print(newString)\n",
    "    for letter in newString:\n",
    "        countLetter = string.count(letter)\n",
    "        if countLetter >=12:\n",
    "            remaingLetterCounter = countLetter - 9\n",
    "            highCounter = \"9\"+letter\n",
    "            lowCounter = str(remaingLetterCounter)+str(letter)\n",
    "            if highCounter not in s:\n",
    "                s+=highCounter\n",
    "            if lowCounter not in s:\n",
    "                s+=lowCounter\n",
    "        else:\n",
    "            normalCounter=str(countLetter)+str(letter)\n",
    "            if normalCounter not in s:\n",
    "                s+=normalCounter\n",
    "    return str(s)\n",
    "\n",
    "# ************^^^^^^^$$$$$$%%%%%%%!!!!!!AAAAAAAAAAAAAAAAAAAA\n",
    "\n",
    "# expected = 9*3*7^6$7%6!9A9A2A\n",
    "# my output = 9*3*7^6$7%6!9A11A"
   ]
  },
  {
   "cell_type": "code",
   "execution_count": 123,
   "id": "d1ed60f8",
   "metadata": {},
   "outputs": [
    {
     "name": "stdout",
     "output_type": "stream",
     "text": [
      "************^^^^^^^$$$$$$%%%%%%%!!!!!!AAAAAAAAAAAAAAAAAAAA\n"
     ]
    },
    {
     "data": {
      "text/plain": [
       "'9*3*7^6$7%6!9A11A'"
      ]
     },
     "execution_count": 123,
     "metadata": {},
     "output_type": "execute_result"
    }
   ],
   "source": [
    "runLengthEncoding(\"************^^^^^^^$$$$$$%%%%%%%!!!!!!AAAAAAAAAAAAAAAAAAAA\")"
   ]
  },
  {
   "cell_type": "code",
   "execution_count": 124,
   "id": "7278aaef",
   "metadata": {},
   "outputs": [],
   "source": [
    "# Optimal solution\n",
    "\n",
    "\n",
    "def runLengthEncoding(string):\n",
    "    # The input string is guaranteed to be non-empty,\n",
    "    # so our first run will be of at least length 1.\n",
    "    encodedStringCharacters = []\n",
    "    currentRunLength = 1\n",
    "    for i in range(1, len(string)):\n",
    "        currentCharacter = string[i]\n",
    "        previousCharacter = string[i - 1]\n",
    "        if currentCharacter != previousCharacter or currentRunLength == 9:\n",
    "            encodedStringCharacters.append(str(currentRunLength))\n",
    "            encodedStringCharacters.append(previousCharacter)\n",
    "            currentRunLength = 0\n",
    "\n",
    "        currentRunLength += 1\n",
    "\n",
    "        # Handle the last run.\n",
    "    encodedStringCharacters.append(str(currentRunLength))\n",
    "    encodedStringCharacters.append(string[len(string) - 1])\n",
    "    return \"\".join(encodedStringCharacters)"
   ]
  },
  {
   "cell_type": "code",
   "execution_count": 121,
   "id": "ac6718e4",
   "metadata": {},
   "outputs": [
    {
     "data": {
      "text/plain": [
       "'9*3*7^6$7%6!9A9A2A'"
      ]
     },
     "execution_count": 121,
     "metadata": {},
     "output_type": "execute_result"
    }
   ],
   "source": [
    "runLengthEncoding(\"************^^^^^^^$$$$$$%%%%%%%!!!!!!AAAAAAAAAAAAAAAAAAAA\")"
   ]
  },
  {
   "cell_type": "code",
   "execution_count": null,
   "id": "191b6932",
   "metadata": {},
   "outputs": [],
   "source": []
  }
 ],
 "metadata": {
  "kernelspec": {
   "display_name": "Python 3 (ipykernel)",
   "language": "python",
   "name": "python3"
  },
  "language_info": {
   "codemirror_mode": {
    "name": "ipython",
    "version": 3
   },
   "file_extension": ".py",
   "mimetype": "text/x-python",
   "name": "python",
   "nbconvert_exporter": "python",
   "pygments_lexer": "ipython3",
   "version": "3.9.12"
  }
 },
 "nbformat": 4,
 "nbformat_minor": 5
}
