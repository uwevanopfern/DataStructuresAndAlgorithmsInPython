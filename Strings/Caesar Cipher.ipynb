{
 "cells": [
  {
   "cell_type": "markdown",
   "id": "77deb517",
   "metadata": {},
   "source": [
    "<h2>Caesar Cipher</h2>\n",
    "<p>\n",
    "  Given a non-empty string of lowercase letters and a non-negative integer\n",
    "  representing a key, write a function that returns a new string obtained by\n",
    "  shifting every letter in the input string by k positions in the alphabet,\n",
    "  where k is the key.\n",
    "</p>\n",
    "<p>\n",
    "  Note that letters should \"wrap\" around the alphabet; in other words, the\n",
    "  letter <span>z</span> shifted by one returns the letter <span>a</span>.\n",
    "</p>\n",
    "<h3>Sample Input</h3>\n",
    "<pre><span class=\"CodeEditor-promptParameter\">string</span> = \"xyz\"\n",
    "<span class=\"CodeEditor-promptParameter\">key</span> = 2\n",
    "</pre>\n",
    "<h3>Sample Output</h3>\n",
    "<pre>\"zab\"\n",
    "</pre>"
   ]
  },
  {
   "cell_type": "code",
   "execution_count": 8,
   "id": "a62ed561",
   "metadata": {},
   "outputs": [
    {
     "data": {
      "text/plain": [
       "'ieh'"
      ]
     },
     "execution_count": 8,
     "metadata": {},
     "output_type": "execute_result"
    }
   ],
   "source": [
    "def caesarCipherEncryptor(string, key):\n",
    "    newLetters = []\n",
    "    newKey = key % 26\n",
    "    for letter in string:\n",
    "        newLetters.append(getNewLetter(letter, newKey))\n",
    "    return \"\".join(newLetters)\n",
    "\n",
    "\n",
    "def getNewLetter(letter, key):\n",
    "    newLetterCode = ord(letter) + key\n",
    "    return chr(newLetterCode) if newLetterCode <= 122 else chr(96 + newLetterCode % 122)\n",
    "\n",
    "caesarCipherEncryptor(\"hdg\", 1)"
   ]
  },
  {
   "cell_type": "code",
   "execution_count": null,
   "id": "e7d6556e",
   "metadata": {},
   "outputs": [],
   "source": []
  },
  {
   "cell_type": "code",
   "execution_count": null,
   "id": "b3942279",
   "metadata": {},
   "outputs": [],
   "source": []
  }
 ],
 "metadata": {
  "kernelspec": {
   "display_name": "Python 3 (ipykernel)",
   "language": "python",
   "name": "python3"
  },
  "language_info": {
   "codemirror_mode": {
    "name": "ipython",
    "version": 3
   },
   "file_extension": ".py",
   "mimetype": "text/x-python",
   "name": "python",
   "nbconvert_exporter": "python",
   "pygments_lexer": "ipython3",
   "version": "3.9.12"
  }
 },
 "nbformat": 4,
 "nbformat_minor": 5
}
