{
 "cells": [
  {
   "cell_type": "markdown",
   "id": "2f329aa7",
   "metadata": {},
   "source": [
    "## Most repeated character"
   ]
  },
  {
   "cell_type": "code",
   "execution_count": 17,
   "id": "556d1411",
   "metadata": {},
   "outputs": [],
   "source": [
    "def mostRepeatedCharacter(string):\n",
    "    chars = {}\n",
    "    for i in string:\n",
    "        if(i.isalpha()):\n",
    "            if i in chars:\n",
    "                chars[i] += 1\n",
    "            else:\n",
    "                chars[i] = 1\n",
    "        else:\n",
    "            continue\n",
    "    return max(chars, key = chars.get) "
   ]
  },
  {
   "cell_type": "code",
   "execution_count": 19,
   "id": "ed561842",
   "metadata": {},
   "outputs": [
    {
     "data": {
      "text/plain": [
       "'A'"
      ]
     },
     "execution_count": 19,
     "metadata": {},
     "output_type": "execute_result"
    }
   ],
   "source": [
    "# mostRepeatedCharacter(\"addddd\")\n",
    "mostRepeatedCharacter(\"AAAAAAAAAAAA,.s,,dsssssss12312\")"
   ]
  },
  {
   "cell_type": "code",
   "execution_count": null,
   "id": "773398a7",
   "metadata": {},
   "outputs": [],
   "source": []
  }
 ],
 "metadata": {
  "kernelspec": {
   "display_name": "Python 3 (ipykernel)",
   "language": "python",
   "name": "python3"
  },
  "language_info": {
   "codemirror_mode": {
    "name": "ipython",
    "version": 3
   },
   "file_extension": ".py",
   "mimetype": "text/x-python",
   "name": "python",
   "nbconvert_exporter": "python",
   "pygments_lexer": "ipython3",
   "version": "3.9.12"
  }
 },
 "nbformat": 4,
 "nbformat_minor": 5
}
